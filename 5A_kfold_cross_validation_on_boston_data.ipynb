{
 "cells": [
  {
   "cell_type": "markdown",
   "id": "867a80f6",
   "metadata": {},
   "source": [
    "## Practical 5A\n",
    "\n",
    "## K fold cross validation on Boston Housing Data"
   ]
  },
  {
   "cell_type": "code",
   "execution_count": 1,
   "id": "85c2ea37",
   "metadata": {},
   "outputs": [],
   "source": [
    "import numpy as np\n",
    "import cv2\n",
    "from keras import models\n",
    "from keras import layers\n",
    "from keras import optimizers\n",
    "from keras import losses\n",
    "from keras import metrics\n",
    "from keras.utils.np_utils import to_categorical\n",
    "from keras.datasets import boston_housing"
   ]
  },
  {
   "cell_type": "code",
   "execution_count": 2,
   "id": "46d04718",
   "metadata": {},
   "outputs": [
    {
     "name": "stdout",
     "output_type": "stream",
     "text": [
      "Downloading data from https://storage.googleapis.com/tensorflow/tf-keras-datasets/boston_housing.npz\n",
      "57344/57026 [==============================] - 0s 0us/step\n"
     ]
    }
   ],
   "source": [
    "# Load the data\n",
    "(data_train, target_train), (data_test, target_test) = boston_housing.load_data()"
   ]
  },
  {
   "cell_type": "code",
   "execution_count": 4,
   "id": "fed2b22a",
   "metadata": {},
   "outputs": [
    {
     "name": "stdout",
     "output_type": "stream",
     "text": [
      "[  1.23247   0.        8.14      0.        0.538     6.142    91.7\n",
      "   3.9769    4.      307.       21.      396.9      18.72   ] 15.2\n"
     ]
    }
   ],
   "source": [
    "# View one sample from the features\n",
    "print(data_train[0], target_train[0])"
   ]
  },
  {
   "cell_type": "code",
   "execution_count": 12,
   "id": "583cce01",
   "metadata": {},
   "outputs": [],
   "source": [
    "def build_network():\n",
    "    model = models.Sequential()\n",
    "    model.add(layers.Dense(64, activation='relu', input_shape=(data_train.shape[1], )))\n",
    "    model.add(layers.Dense(64, activation='relu'))\n",
    "    model.add(layers.Dense(1))\n",
    "    model.compile(optimizer='rmsprop', loss='mse', metrics=['mae']) # mse = mean squared error, mae = mean absolute error\n",
    "    # Whenever we are applying regression, we use the mean squared and mean absolute error\n",
    "    return model"
   ]
  },
  {
   "cell_type": "code",
   "execution_count": 7,
   "id": "1cb9d1b5",
   "metadata": {},
   "outputs": [],
   "source": [
    "# Data preprocessing for feeding into the neural network\n",
    "# Types:\n",
    "# Standardization, Normalization, Binarization or One hot encoding\n",
    "# We will apply standardization in this case\n",
    "# In it, first, we use mean removal so that all data becomes centered, then we do scaling, subtract standard deviation\n",
    "mean = data_train.mean(axis=0)\n",
    "data_train -= mean\n",
    "std = data_train.std(axis=0)\n",
    "data_train /= std\n",
    "\n",
    "data_test -= mean\n",
    "data_test /= std"
   ]
  },
  {
   "cell_type": "markdown",
   "id": "ba700392",
   "metadata": {},
   "source": [
    "K fold cross validation:\n",
    "https://towardsdatascience.com/why-and-how-to-cross-validate-a-model-d6424b45261f"
   ]
  },
  {
   "cell_type": "code",
   "execution_count": 8,
   "id": "61db1d6f",
   "metadata": {},
   "outputs": [],
   "source": [
    "# Multifold validation when data is limited (K fold cross validation)\n",
    "k = 4\n",
    "val_samples_num = len(data_train) // k\n",
    "num_epochs = 100\n",
    "scores_all = []"
   ]
  },
  {
   "cell_type": "code",
   "execution_count": 13,
   "id": "92f0dfe1",
   "metadata": {},
   "outputs": [],
   "source": [
    "for i in range(k):\n",
    "    val_data = data_train[i*val_samples_num: (i+1)*val_samples_num]\n",
    "    val_targets = target_train[i*val_samples_num: (i+1)*val_samples_num]\n",
    "    part_data_train = np.concatenate([data_train[:i*val_samples_num], data_train[(i+1)*val_samples_num:]], axis=0)\n",
    "    partial_train_targets = np.concatenate([target_train[:i*val_samples_num], target_train[(i+1)*val_samples_num:]], axis=0)\n",
    "    model = build_network()\n",
    "    model.fit(part_data_train, partial_train_targets, epochs=num_epochs, batch_size=1, verbose=0)\n",
    "    val_mse, val_mae = model.evaluate(val_data, val_targets, verbose=0)\n",
    "    scores_all.append(val_mae)"
   ]
  },
  {
   "cell_type": "code",
   "execution_count": 15,
   "id": "1e32a8f8",
   "metadata": {},
   "outputs": [
    {
     "name": "stdout",
     "output_type": "stream",
     "text": [
      "[2.2645530700683594, 2.8130197525024414, 2.6335978507995605, 2.4360902309417725]\n"
     ]
    }
   ],
   "source": [
    "# Printing the scores from each folds\n",
    "print(scores_all)"
   ]
  },
  {
   "cell_type": "code",
   "execution_count": 16,
   "id": "22f67e8b",
   "metadata": {},
   "outputs": [
    {
     "name": "stdout",
     "output_type": "stream",
     "text": [
      "2.5368152260780334\n"
     ]
    }
   ],
   "source": [
    "# Printing mean of all the folds\n",
    "print(np.mean(scores_all))"
   ]
  },
  {
   "cell_type": "code",
   "execution_count": null,
   "id": "df9f701d",
   "metadata": {},
   "outputs": [],
   "source": []
  }
 ],
 "metadata": {
  "kernelspec": {
   "display_name": "Python [ibmdl2.0]",
   "language": "python",
   "name": "ibmdl2.0"
  },
  "language_info": {
   "codemirror_mode": {
    "name": "ipython",
    "version": 3
   },
   "file_extension": ".py",
   "mimetype": "text/x-python",
   "name": "python",
   "nbconvert_exporter": "python",
   "pygments_lexer": "ipython3",
   "version": "3.7.9"
  }
 },
 "nbformat": 4,
 "nbformat_minor": 5
}
