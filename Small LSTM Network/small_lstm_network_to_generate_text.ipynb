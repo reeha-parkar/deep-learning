{
 "cells": [
  {
   "cell_type": "code",
   "execution_count": 1,
   "metadata": {},
   "outputs": [],
   "source": [
    "import numpy\n",
    "from keras.models import Sequential\n",
    "from keras.layers import Dense\n",
    "from keras.layers import Dropout\n",
    "from keras.layers import LSTM\n",
    "from keras.callbacks import ModelCheckpoint\n",
    "from keras.utils import np_utils"
   ]
  },
  {
   "cell_type": "code",
   "execution_count": 2,
   "metadata": {},
   "outputs": [],
   "source": [
    "# load ascii text and covert to lowercase\n",
    "filename = \"wonderland.txt\"\n",
    "raw_text = open(filename, 'r', encoding='utf-8').read()\n",
    "raw_text = raw_text.lower()"
   ]
  },
  {
   "cell_type": "code",
   "execution_count": 3,
   "metadata": {},
   "outputs": [],
   "source": [
    "# create mapping of unique chars to integers\n",
    "chars = sorted(list(set(raw_text)))\n",
    "char_to_int = dict((c, i) for i, c in enumerate(chars))"
   ]
  },
  {
   "cell_type": "code",
   "execution_count": 4,
   "metadata": {},
   "outputs": [
    {
     "name": "stdout",
     "output_type": "stream",
     "text": [
      "Total Characters:  148574\n",
      "Total Vocab:  46\n"
     ]
    }
   ],
   "source": [
    "# summarize the loaded data\n",
    "n_chars = len(raw_text)\n",
    "n_vocab = len(chars)\n",
    "print(\"Total Characters: \", n_chars)\n",
    "print(\"Total Vocab: \", n_vocab)"
   ]
  },
  {
   "cell_type": "code",
   "execution_count": 5,
   "metadata": {},
   "outputs": [
    {
     "name": "stdout",
     "output_type": "stream",
     "text": [
      "Total Patterns:  148474\n"
     ]
    }
   ],
   "source": [
    "# prepare the dataset of input to output pairs encoded as integers\n",
    "seq_length = 100\n",
    "dataX = []\n",
    "dataY = []\n",
    "for i in range(0, n_chars - seq_length, 1):\n",
    "    seq_in = raw_text[i:i + seq_length]\n",
    "    seq_out = raw_text[i + seq_length]\n",
    "    dataX.append([char_to_int[char] for char in seq_in])\n",
    "    dataY.append(char_to_int[seq_out])\n",
    "n_patterns = len(dataX)\n",
    "print(\"Total Patterns: \", n_patterns)"
   ]
  },
  {
   "cell_type": "code",
   "execution_count": 6,
   "metadata": {},
   "outputs": [],
   "source": [
    "# reshape X to be [samples, time steps, features]\n",
    "X = numpy.reshape(dataX, (n_patterns, seq_length, 1))\n",
    "\n",
    "# normalize\n",
    "X = X / float(n_vocab)\n",
    "\n",
    "# one hot encode the output variable\n",
    "y = np_utils.to_categorical(dataY)"
   ]
  },
  {
   "cell_type": "code",
   "execution_count": 7,
   "metadata": {},
   "outputs": [],
   "source": [
    "# define the LSTM model\n",
    "model = Sequential()\n",
    "model.add(LSTM(256, input_shape=(X.shape[1], X.shape[2])))\n",
    "model.add(Dropout(0.2))\n",
    "model.add(Dense(y.shape[1], activation='softmax'))\n",
    "model.compile(loss='categorical_crossentropy', optimizer='adam')"
   ]
  },
  {
   "cell_type": "code",
   "execution_count": 8,
   "metadata": {},
   "outputs": [],
   "source": [
    "# define the checkpoint\n",
    "filepath = \"weights-improvement-{epoch:02d}-{loss:.4f}.hdf5\"\n",
    "checkpoint = ModelCheckpoint(filepath, monitor='loss', verbose=1, save_best_only=True, mode='min')\n",
    "callbacks_list = [checkpoint]"
   ]
  },
  {
   "cell_type": "code",
   "execution_count": 9,
   "metadata": {},
   "outputs": [
    {
     "name": "stdout",
     "output_type": "stream",
     "text": [
      "Epoch 1/20\n",
      "1160/1160 [==============================] - 511s 439ms/step - loss: 3.0394\n",
      "\n",
      "Epoch 00001: loss improved from inf to 2.94975, saving model to weights-improvement-01-2.9497.hdf5\n",
      "Epoch 2/20\n",
      "1160/1160 [==============================] - 527s 454ms/step - loss: 2.7731\n",
      "\n",
      "Epoch 00002: loss improved from 2.94975 to 2.73635, saving model to weights-improvement-02-2.7364.hdf5\n",
      "Epoch 3/20\n",
      "1160/1160 [==============================] - 532s 459ms/step - loss: 2.6399\n",
      "\n",
      "Epoch 00003: loss improved from 2.73635 to 2.62332, saving model to weights-improvement-03-2.6233.hdf5\n",
      "Epoch 4/20\n",
      "1160/1160 [==============================] - 515s 444ms/step - loss: 2.5696\n",
      "\n",
      "Epoch 00004: loss improved from 2.62332 to 2.55595, saving model to weights-improvement-04-2.5559.hdf5\n",
      "Epoch 5/20\n",
      "1160/1160 [==============================] - 517s 446ms/step - loss: 2.5134\n",
      "\n",
      "Epoch 00005: loss improved from 2.55595 to 2.49959, saving model to weights-improvement-05-2.4996.hdf5\n",
      "Epoch 6/20\n",
      "1160/1160 [==============================] - 515s 444ms/step - loss: 2.4570\n",
      "\n",
      "Epoch 00006: loss improved from 2.49959 to 2.44637, saving model to weights-improvement-06-2.4464.hdf5\n",
      "Epoch 7/20\n",
      "1160/1160 [==============================] - 740s 638ms/step - loss: 2.4001\n",
      "\n",
      "Epoch 00007: loss improved from 2.44637 to 2.39660, saving model to weights-improvement-07-2.3966.hdf5\n",
      "Epoch 8/20\n",
      "1160/1160 [==============================] - 511s 441ms/step - loss: 2.3473\n",
      "\n",
      "Epoch 00008: loss improved from 2.39660 to 2.34708, saving model to weights-improvement-08-2.3471.hdf5\n",
      "Epoch 9/20\n",
      "1160/1160 [==============================] - 494s 425ms/step - loss: 2.3021\n",
      "\n",
      "Epoch 00009: loss improved from 2.34708 to 2.30326, saving model to weights-improvement-09-2.3033.hdf5\n",
      "Epoch 10/20\n",
      "1160/1160 [==============================] - 497s 428ms/step - loss: 2.2668\n",
      "\n",
      "Epoch 00010: loss improved from 2.30326 to 2.26336, saving model to weights-improvement-10-2.2634.hdf5\n",
      "Epoch 11/20\n",
      "1160/1160 [==============================] - 479s 413ms/step - loss: 2.2251\n",
      "\n",
      "Epoch 00011: loss improved from 2.26336 to 2.22146, saving model to weights-improvement-11-2.2215.hdf5\n",
      "Epoch 12/20\n",
      "1160/1160 [==============================] - 481s 415ms/step - loss: 2.1821\n",
      "\n",
      "Epoch 00012: loss improved from 2.22146 to 2.18396, saving model to weights-improvement-12-2.1840.hdf5\n",
      "Epoch 13/20\n",
      "1160/1160 [==============================] - 504s 434ms/step - loss: 2.1458\n",
      "\n",
      "Epoch 00013: loss improved from 2.18396 to 2.15042, saving model to weights-improvement-13-2.1504.hdf5\n",
      "Epoch 14/20\n",
      "1160/1160 [==============================] - 504s 435ms/step - loss: 2.1081\n",
      "\n",
      "Epoch 00014: loss improved from 2.15042 to 2.11615, saving model to weights-improvement-14-2.1162.hdf5\n",
      "Epoch 15/20\n",
      "1160/1160 [==============================] - 631s 544ms/step - loss: 2.0842\n",
      "\n",
      "Epoch 00015: loss improved from 2.11615 to 2.08485, saving model to weights-improvement-15-2.0848.hdf5\n",
      "Epoch 16/20\n",
      "1160/1160 [==============================] - 596s 514ms/step - loss: 2.0464\n",
      "\n",
      "Epoch 00016: loss improved from 2.08485 to 2.05441, saving model to weights-improvement-16-2.0544.hdf5\n",
      "Epoch 17/20\n",
      "1160/1160 [==============================] - 557s 480ms/step - loss: 2.0148\n",
      "\n",
      "Epoch 00017: loss improved from 2.05441 to 2.02316, saving model to weights-improvement-17-2.0232.hdf5\n",
      "Epoch 18/20\n",
      "1160/1160 [==============================] - 575s 496ms/step - loss: 1.9826\n",
      "\n",
      "Epoch 00018: loss improved from 2.02316 to 1.99604, saving model to weights-improvement-18-1.9960.hdf5\n",
      "Epoch 19/20\n",
      "1160/1160 [==============================] - 494s 426ms/step - loss: 1.9600\n",
      "\n",
      "Epoch 00019: loss improved from 1.99604 to 1.97221, saving model to weights-improvement-19-1.9722.hdf5\n",
      "Epoch 20/20\n",
      "1160/1160 [==============================] - 518s 446ms/step - loss: 1.9278\n",
      "\n",
      "Epoch 00020: loss improved from 1.97221 to 1.94294, saving model to weights-improvement-20-1.9429.hdf5\n"
     ]
    },
    {
     "data": {
      "text/plain": [
       "<tensorflow.python.keras.callbacks.History at 0x287d75ab308>"
      ]
     },
     "execution_count": 9,
     "metadata": {},
     "output_type": "execute_result"
    }
   ],
   "source": [
    "# fit the model\n",
    "model.fit(X, y, epochs=20, batch_size=128, callbacks=callbacks_list)"
   ]
  },
  {
   "cell_type": "code",
   "execution_count": null,
   "metadata": {},
   "outputs": [],
   "source": []
  }
 ],
 "metadata": {
  "kernelspec": {
   "display_name": "Python3 [ibm]",
   "language": "python",
   "name": "ibm"
  },
  "language_info": {
   "codemirror_mode": {
    "name": "ipython",
    "version": 3
   },
   "file_extension": ".py",
   "mimetype": "text/x-python",
   "name": "python",
   "nbconvert_exporter": "python",
   "pygments_lexer": "ipython3",
   "version": "3.7.9"
  }
 },
 "nbformat": 4,
 "nbformat_minor": 4
}
