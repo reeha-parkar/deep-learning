{
 "cells": [
  {
   "cell_type": "markdown",
   "metadata": {},
   "source": [
    "## Practical 4\n",
    "\n",
    "## Multiclass classification on reuters dataset"
   ]
  },
  {
   "cell_type": "code",
   "execution_count": 4,
   "metadata": {},
   "outputs": [],
   "source": [
    "# Multiclass classification\n",
    "import numpy as np\n",
    "import keras\n",
    "import cv2\n",
    "import matplotlib.pyplot as plt\n",
    "from keras.utils.np_utils import to_categorical\n",
    "import tensorflow as tf"
   ]
  },
  {
   "cell_type": "code",
   "execution_count": 5,
   "metadata": {},
   "outputs": [],
   "source": [
    "from keras.datasets import reuters\n",
    "\n",
    "(data_train, labels_train), (data_test, labels_test) = tf.keras.datasets.reuters.load_data(path='reuters.npz', num_words=10000, \n",
    "                                                                                           skip_top=0, maxlen=None, \n",
    "                                                                                           test_split=0.2, seed=113, \n",
    "                                                                                           start_char=1, oov_char=2, \n",
    "                                                                                           index_from=3)\n"
   ]
  },
  {
   "cell_type": "code",
   "execution_count": 7,
   "metadata": {},
   "outputs": [
    {
     "name": "stdout",
     "output_type": "stream",
     "text": [
      "8982\n",
      "2246\n",
      "[1, 2, 2, 8, 43, 10, 447, 5, 25, 207, 270, 5, 3095, 111, 16, 369, 186, 90, 67, 7, 89, 5, 19, 102, 6, 19, 124, 15, 90, 67, 84, 22, 482, 26, 7, 48, 4, 49, 8, 864, 39, 209, 154, 6, 151, 6, 83, 11, 15, 22, 155, 11, 15, 7, 48, 9, 4579, 1005, 504, 6, 258, 6, 272, 11, 15, 22, 134, 44, 11, 15, 16, 8, 197, 1245, 90, 67, 52, 29, 209, 30, 32, 132, 6, 109, 15, 17, 12]\n"
     ]
    }
   ],
   "source": [
    "print(len(data_train))\n",
    "print(len(data_test))\n",
    "# checking first sample\n",
    "print(data_train[0])"
   ]
  },
  {
   "cell_type": "code",
   "execution_count": 9,
   "metadata": {},
   "outputs": [
    {
     "name": "stdout",
     "output_type": "stream",
     "text": [
      "? ? ? said as a result of its december acquisition of space co it expects earnings per share in 1987 of 1 15 to 1 30 dlrs per share up from 70 cts in 1986 the company said pretax net should rise to nine to 10 mln dlrs from six mln dlrs in 1986 and rental operation revenues to 19 to 22 mln dlrs from 12 5 mln dlrs it said cash flow per share this year should be 2 50 to three dlrs reuter 3\n"
     ]
    }
   ],
   "source": [
    "# Decoding the data\n",
    "word_index = tf.keras.datasets.reuters.get_word_index()\n",
    "\n",
    "# Generate integer to word mapping\n",
    "reverse_word_index = dict([(value, key) for (key, value) in word_index.items()])\n",
    "\n",
    "# Indices are offset by 3 because 0,1,2 are reserved for \"padding\", \"start of response \" and \" \"\n",
    "decoded_review = ' '.join((reverse_word_index.get(i-3, \"?\") for i in data_train[0]))\n",
    "print(decoded_review)"
   ]
  },
  {
   "cell_type": "markdown",
   "metadata": {},
   "source": [
    "We cannot feed integer sequences to the neural network. Therefore we perform One-Hot Encoding. The 10,000 unique elements in our training and testing data. Vectorizing results in 2D tensors with input tensor shape (8982,10000) and test input tensor of shape (2246,10000)."
   ]
  },
  {
   "cell_type": "code",
   "execution_count": 10,
   "metadata": {},
   "outputs": [],
   "source": [
    "def vectorize_sequences(sequences, dimension=10000):\n",
    "    results = np.zeros((len(sequences), dimension))\n",
    "    for i, sequence in enumerate(sequences):\n",
    "        results[i, sequence] = 1\n",
    "    return results"
   ]
  },
  {
   "cell_type": "code",
   "execution_count": 11,
   "metadata": {},
   "outputs": [],
   "source": [
    "x_train = vectorize_sequences(data_train)\n",
    "x_test = vectorize_sequences(data_test)"
   ]
  },
  {
   "cell_type": "code",
   "execution_count": 12,
   "metadata": {},
   "outputs": [],
   "source": [
    "def to_one_hot(labels, dimension=46):\n",
    "    results = np.zeros((len(labels), dimension))\n",
    "    for i, label in enumerate(labels):\n",
    "        results[i, label] = 1\n",
    "    return results\n",
    "# One hot encoding can also be performed using to_categorical function"
   ]
  },
  {
   "cell_type": "code",
   "execution_count": 13,
   "metadata": {},
   "outputs": [],
   "source": [
    "y_train = to_categorical(labels_train)\n",
    "y_test = to_categorical(labels_test)"
   ]
  },
  {
   "cell_type": "code",
   "execution_count": 14,
   "metadata": {},
   "outputs": [
    {
     "name": "stdout",
     "output_type": "stream",
     "text": [
      "(8982, 10000)\n",
      "(8982, 46)\n",
      "(2246, 10000)\n",
      "(2246, 46)\n"
     ]
    }
   ],
   "source": [
    "print(x_train.shape)\n",
    "print(y_train.shape)\n",
    "print(x_test.shape)\n",
    "print(y_test.shape)"
   ]
  },
  {
   "cell_type": "code",
   "execution_count": 15,
   "metadata": {},
   "outputs": [],
   "source": [
    "model = keras.models.Sequential()\n",
    "model.add(keras.layers.Dense(64, activation='relu', input_shape=(10000, )))\n",
    "model.add(keras.layers.Dense(64, activation='relu'))\n",
    "model.add(keras.layers.Dense(46, activation='softmax'))"
   ]
  },
  {
   "cell_type": "code",
   "execution_count": 16,
   "metadata": {},
   "outputs": [],
   "source": [
    "model.compile(optimizer='rmsprop', loss='categorical_crossentropy', metrics=['accuracy'])"
   ]
  },
  {
   "cell_type": "code",
   "execution_count": 17,
   "metadata": {},
   "outputs": [
    {
     "name": "stdout",
     "output_type": "stream",
     "text": [
      "x_val  (1000, 10000)\n",
      "y_val  (1000, 46)\n",
      "partial_x_train  (7982, 10000)\n",
      "partial_y_train  (7982, 46)\n"
     ]
    }
   ],
   "source": [
    "\n",
    "x_val = x_train[:1000 ]\n",
    "partial_x_train = x_train[1000:]\n",
    "y_val = y_train[:1000 ]\n",
    "partial_y_train = y_train[1000:]\n",
    "\n",
    "print(\"x_val \", x_val.shape)\n",
    "print(\"y_val \", y_val.shape)\n",
    "\n",
    "print(\"partial_x_train \", partial_x_train.shape)\n",
    "print(\"partial_y_train \", partial_y_train.shape)"
   ]
  },
  {
   "cell_type": "code",
   "execution_count": 18,
   "metadata": {
    "scrolled": true
   },
   "outputs": [
    {
     "name": "stdout",
     "output_type": "stream",
     "text": [
      "Epoch 1/20\n",
      "16/16 [==============================] - 10s 350ms/step - loss: 3.1508 - accuracy: 0.4001 - val_loss: 1.7194 - val_accuracy: 0.6430\n",
      "Epoch 2/20\n",
      "16/16 [==============================] - 0s 30ms/step - loss: 1.4755 - accuracy: 0.6946 - val_loss: 1.2812 - val_accuracy: 0.7190\n",
      "Epoch 3/20\n",
      "16/16 [==============================] - 0s 30ms/step - loss: 1.0565 - accuracy: 0.7798 - val_loss: 1.1246 - val_accuracy: 0.7530\n",
      "Epoch 4/20\n",
      "16/16 [==============================] - 0s 29ms/step - loss: 0.8303 - accuracy: 0.8267 - val_loss: 1.0264 - val_accuracy: 0.7820\n",
      "Epoch 5/20\n",
      "16/16 [==============================] - 0s 30ms/step - loss: 0.6494 - accuracy: 0.8647 - val_loss: 0.9544 - val_accuracy: 0.8010\n",
      "Epoch 6/20\n",
      "16/16 [==============================] - 1s 33ms/step - loss: 0.4994 - accuracy: 0.8983 - val_loss: 0.9220 - val_accuracy: 0.8060\n",
      "Epoch 7/20\n",
      "16/16 [==============================] - 1s 34ms/step - loss: 0.4172 - accuracy: 0.9141 - val_loss: 0.9223 - val_accuracy: 0.8040\n",
      "Epoch 8/20\n",
      "16/16 [==============================] - 1s 33ms/step - loss: 0.3399 - accuracy: 0.9322 - val_loss: 0.8751 - val_accuracy: 0.8160\n",
      "Epoch 9/20\n",
      "16/16 [==============================] - 1s 39ms/step - loss: 0.2681 - accuracy: 0.9423 - val_loss: 0.8965 - val_accuracy: 0.8150\n",
      "Epoch 10/20\n",
      "16/16 [==============================] - 1s 36ms/step - loss: 0.2334 - accuracy: 0.9489 - val_loss: 0.8957 - val_accuracy: 0.8160\n",
      "Epoch 11/20\n",
      "16/16 [==============================] - 1s 36ms/step - loss: 0.2003 - accuracy: 0.9476 - val_loss: 0.9356 - val_accuracy: 0.8150\n",
      "Epoch 12/20\n",
      "16/16 [==============================] - 1s 47ms/step - loss: 0.1695 - accuracy: 0.9574 - val_loss: 0.9343 - val_accuracy: 0.8190\n",
      "Epoch 13/20\n",
      "16/16 [==============================] - 1s 48ms/step - loss: 0.1561 - accuracy: 0.9589 - val_loss: 0.9186 - val_accuracy: 0.8210\n",
      "Epoch 14/20\n",
      "16/16 [==============================] - 1s 50ms/step - loss: 0.1297 - accuracy: 0.9615 - val_loss: 0.9691 - val_accuracy: 0.8120\n",
      "Epoch 15/20\n",
      "16/16 [==============================] - 1s 39ms/step - loss: 0.1285 - accuracy: 0.9589 - val_loss: 0.9730 - val_accuracy: 0.8130\n",
      "Epoch 16/20\n",
      "16/16 [==============================] - 1s 37ms/step - loss: 0.1232 - accuracy: 0.9615 - val_loss: 1.0004 - val_accuracy: 0.8120\n",
      "Epoch 17/20\n",
      "16/16 [==============================] - 1s 40ms/step - loss: 0.1157 - accuracy: 0.9593 - val_loss: 1.0122 - val_accuracy: 0.8130\n",
      "Epoch 18/20\n",
      "16/16 [==============================] - 1s 46ms/step - loss: 0.1133 - accuracy: 0.9590 - val_loss: 1.0450 - val_accuracy: 0.8090\n",
      "Epoch 19/20\n",
      "16/16 [==============================] - 1s 38ms/step - loss: 0.1068 - accuracy: 0.9604 - val_loss: 1.0213 - val_accuracy: 0.8020\n",
      "Epoch 20/20\n",
      "16/16 [==============================] - 1s 37ms/step - loss: 0.1044 - accuracy: 0.9586 - val_loss: 1.0584 - val_accuracy: 0.8080\n"
     ]
    }
   ],
   "source": [
    "history = model.fit(partial_x_train, partial_y_train, epochs=20, batch_size=512, validation_data=(x_val, y_val))"
   ]
  },
  {
   "cell_type": "code",
   "execution_count": 19,
   "metadata": {},
   "outputs": [
    {
     "name": "stdout",
     "output_type": "stream",
     "text": [
      "dict_keys(['loss', 'accuracy', 'val_loss', 'val_accuracy'])\n"
     ]
    }
   ],
   "source": [
    "history_dict = history.history\n",
    "print(history_dict.keys())"
   ]
  },
  {
   "cell_type": "code",
   "execution_count": 20,
   "metadata": {},
   "outputs": [
    {
     "data": {
      "image/png": "[encoded data removed]",
      "text/plain": [
       "<Figure size 432x288 with 1 Axes>"
      ]
     },
     "metadata": {
      "needs_background": "light"
     },
     "output_type": "display_data"
    }
   ],
   "source": [
    "loss_values = history_dict['loss']\n",
    "val_loss_values = history_dict['val_loss']\n",
    "epochs = range(1, len(loss_values)+1)\n",
    "\n",
    "plt.plot(epochs, loss_values, 'bo', label='Training Loss')\n",
    "plt.plot(epochs, val_loss_values, 'b', label='Validation Loss')\n",
    "\n",
    "plt.title('Training and Validation Loss')\n",
    "plt.xlabel('Epochs')\n",
    "plt.ylabel('Loss Value')\n",
    "plt.legend()\n",
    "plt.show()"
   ]
  },
  {
   "cell_type": "code",
   "execution_count": 21,
   "metadata": {},
   "outputs": [
    {
     "data": {
      "image/png": "[encoded data removed]",
      "text/plain": [
       "<Figure size 432x288 with 1 Axes>"
      ]
     },
     "metadata": {
      "needs_background": "light"
     },
     "output_type": "display_data"
    }
   ],
   "source": [
    "acc_values = history_dict['accuracy']\n",
    "val_acc_values = history_dict['val_accuracy']\n",
    "\n",
    "epochs = range(1, len(loss_values)+1)\n",
    "\n",
    "plt.plot(epochs, acc_values, 'bo', label='Training Accuracy')\n",
    "plt.plot(epochs, val_acc_values, 'b', label='Validation Accuracy')\n",
    "\n",
    "plt.title('Training and Validation Accuracy')\n",
    "plt.xlabel('Epochs')\n",
    "plt.ylabel('Accuracy Value')\n",
    "plt.legend()\n",
    "plt.show()"
   ]
  },
  {
   "cell_type": "code",
   "execution_count": 28,
   "metadata": {},
   "outputs": [
    {
     "name": "stdout",
     "output_type": "stream",
     "text": [
      "Epoch 1/9\n",
      "63/63 [==============================] - 2s 19ms/step - loss: 2.5150 - accuracy: 0.5112 - val_loss: 1.2597 - val_accuracy: 0.7210\n",
      "Epoch 2/9\n",
      "63/63 [==============================] - 1s 17ms/step - loss: 1.0328 - accuracy: 0.7789 - val_loss: 1.0179 - val_accuracy: 0.7790\n",
      "Epoch 3/9\n",
      "63/63 [==============================] - 1s 20ms/step - loss: 0.6982 - accuracy: 0.8521 - val_loss: 0.8908 - val_accuracy: 0.8080\n",
      "Epoch 4/9\n",
      "63/63 [==============================] - 1s 19ms/step - loss: 0.4560 - accuracy: 0.9045 - val_loss: 0.8596 - val_accuracy: 0.8260\n",
      "Epoch 5/9\n",
      "63/63 [==============================] - 1s 20ms/step - loss: 0.3233 - accuracy: 0.9294 - val_loss: 0.9010 - val_accuracy: 0.8120\n",
      "Epoch 6/9\n",
      "63/63 [==============================] - 1s 17ms/step - loss: 0.2341 - accuracy: 0.9435 - val_loss: 0.9551 - val_accuracy: 0.8040\n",
      "Epoch 7/9\n",
      "63/63 [==============================] - 1s 20ms/step - loss: 0.1816 - accuracy: 0.9570 - val_loss: 0.9750 - val_accuracy: 0.7990\n",
      "Epoch 8/9\n",
      "63/63 [==============================] - 1s 19ms/step - loss: 0.1450 - accuracy: 0.9606 - val_loss: 0.9621 - val_accuracy: 0.8020\n",
      "Epoch 9/9\n",
      "63/63 [==============================] - ETA: 0s - loss: 0.1559 - accuracy: 0.95 - 1s 20ms/step - loss: 0.1561 - accuracy: 0.9556 - val_loss: 0.9926 - val_accuracy: 0.8150\n"
     ]
    },
    {
     "data": {
      "text/plain": [
       "<tensorflow.python.keras.callbacks.History at 0x175b2defd48>"
      ]
     },
     "execution_count": 28,
     "metadata": {},
     "output_type": "execute_result"
    }
   ],
   "source": [
    "# We observe that minimum validation loss and maximum validation accuracy is achieved at around 10 epochs. Retraining our model.\n",
    "\n",
    "# Model definition\n",
    "model = keras.models.Sequential()\n",
    "model.add(keras.layers.Dense(64, activation='relu', input_shape=(10000,)))\n",
    "model.add(keras.layers.Dense(64, activation='relu'))\n",
    "model.add(keras.layers.Dense(46, activation='softmax'))\n",
    "\n",
    "# Compilation\n",
    "model.compile(optimizer='rmsprop', loss='categorical_crossentropy', metrics=['accuracy'])\n",
    "\n",
    "# Training\n",
    "model.fit(partial_x_train, partial_y_train, epochs=9, batch_size=128, validation_data=(x_val, y_val))"
   ]
  },
  {
   "cell_type": "code",
   "execution_count": 29,
   "metadata": {},
   "outputs": [
    {
     "name": "stdout",
     "output_type": "stream",
     "text": [
      "71/71 [==============================] - 0s 3ms/step - loss: 1.1700 - accuracy: 0.7854\n",
      "[1.1699519157409668, 0.7853962779045105]\n"
     ]
    }
   ],
   "source": [
    "results = model.evaluate(x_test, y_test)\n",
    "print(results)"
   ]
  },
  {
   "cell_type": "markdown",
   "metadata": {},
   "source": [
    "batch size =512, epochs=9 accuracy =0.78272\n",
    "\n",
    "batch size =256, epochs=9 accuracy =0.76758\n",
    "\n",
    "batch size =128, epochs=9 accuracy =0.78539"
   ]
  }
 ],
 "metadata": {
  "kernelspec": {
   "display_name": "Python [ibmdl2.0]",
   "language": "python",
   "name": "ibmdl2.0"
  },
  "language_info": {
   "codemirror_mode": {
    "name": "ipython",
    "version": 3
   },
   "file_extension": ".py",
   "mimetype": "text/x-python",
   "name": "python",
   "nbconvert_exporter": "python",
   "pygments_lexer": "ipython3",
   "version": "3.7.9"
  }
 },
 "nbformat": 4,
 "nbformat_minor": 4
}
