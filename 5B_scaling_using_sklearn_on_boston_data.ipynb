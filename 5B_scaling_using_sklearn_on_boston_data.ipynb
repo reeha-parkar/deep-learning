{
 "cells": [
  {
   "cell_type": "markdown",
   "id": "a8cab74c",
   "metadata": {},
   "source": [
    "## Practical 5B\n",
    "\n",
    "## Scaling method from sklearn on Boston Housing data"
   ]
  },
  {
   "cell_type": "code",
   "execution_count": 1,
   "id": "4174210f",
   "metadata": {},
   "outputs": [],
   "source": [
    "import numpy as np\n",
    "import matplotlib.pyplot as plt\n",
    "import pandas as pd\n",
    "import seaborn as sns\n",
    "%matplotlib inline"
   ]
  },
  {
   "cell_type": "code",
   "execution_count": 2,
   "id": "20a33fce",
   "metadata": {},
   "outputs": [
    {
     "name": "stdout",
     "output_type": "stream",
     "text": [
      "[  1.23247   0.        8.14      0.        0.538     6.142    91.7\n",
      "   3.9769    4.      307.       21.      396.9      18.72   ] 15.2\n"
     ]
    }
   ],
   "source": [
    "from keras.datasets import boston_housing\n",
    "(X_train, y_train), (X_test, y_test) = boston_housing.load_data()\n",
    "\n",
    "print(X_train[0], y_train[0])"
   ]
  },
  {
   "cell_type": "code",
   "execution_count": 3,
   "id": "8f06b77b",
   "metadata": {},
   "outputs": [],
   "source": [
    "from sklearn.preprocessing import StandardScaler\n",
    "scaler = StandardScaler()"
   ]
  },
  {
   "cell_type": "code",
   "execution_count": 4,
   "id": "8a91363b",
   "metadata": {},
   "outputs": [
    {
     "data": {
      "text/plain": [
       "StandardScaler()"
      ]
     },
     "execution_count": 4,
     "metadata": {},
     "output_type": "execute_result"
    }
   ],
   "source": [
    "# Fitting the scaler on the training dataset\n",
    "scaler.fit(X_train)"
   ]
  },
  {
   "cell_type": "code",
   "execution_count": 5,
   "id": "b5335668",
   "metadata": {},
   "outputs": [],
   "source": [
    "# Then we call the transform method to scale both the training and testing data\n",
    "X_train_scaled = scaler.transform(X_train)\n",
    "X_test_scaled = scaler.transform(X_test)"
   ]
  },
  {
   "cell_type": "code",
   "execution_count": 6,
   "id": "206ee2ba",
   "metadata": {},
   "outputs": [
    {
     "name": "stdout",
     "output_type": "stream",
     "text": [
      "[-0.27224633 -0.48361547 -0.43576161 -0.25683275 -0.1652266  -0.1764426\n",
      "  0.81306188  0.1166983  -0.62624905 -0.59517003  1.14850044  0.44807713\n",
      "  0.8252202 ]\n"
     ]
    }
   ],
   "source": [
    "# A sample output\n",
    "print(X_train_scaled[0])"
   ]
  },
  {
   "cell_type": "code",
   "execution_count": 9,
   "id": "b42367f5",
   "metadata": {},
   "outputs": [],
   "source": [
    "# Model building\n",
    "from keras import models, layers\n",
    "model = models.Sequential()\n",
    "model.add(layers.Dense(8, activation='relu', input_shape=[X_train.shape[1]]))\n",
    "model.add(layers.Dense(16, activation='relu'))\n",
    "\n",
    "# Output layer\n",
    "model.add(layers.Dense(1))"
   ]
  },
  {
   "cell_type": "code",
   "execution_count": 10,
   "id": "2f85994f",
   "metadata": {},
   "outputs": [],
   "source": [
    "# Compile model\n",
    "model.compile(optimizer='rmsprop', loss='mse', metrics=['mae'])"
   ]
  },
  {
   "cell_type": "code",
   "execution_count": 11,
   "id": "9f157a6e",
   "metadata": {},
   "outputs": [
    {
     "name": "stdout",
     "output_type": "stream",
     "text": [
      "Epoch 1/100\n",
      "11/11 [==============================] - 3s 93ms/step - loss: 519.6338 - mae: 21.0150 - val_loss: 620.7109 - val_mae: 23.1637\n",
      "Epoch 2/100\n",
      "11/11 [==============================] - 0s 14ms/step - loss: 536.4292 - mae: 21.2213 - val_loss: 607.1515 - val_mae: 22.8766\n",
      "Epoch 3/100\n",
      "11/11 [==============================] - 0s 11ms/step - loss: 553.1606 - mae: 21.6162 - val_loss: 593.2578 - val_mae: 22.5813\n",
      "Epoch 4/100\n",
      "11/11 [==============================] - 0s 12ms/step - loss: 569.0900 - mae: 21.7658 - val_loss: 578.5596 - val_mae: 22.2679\n",
      "Epoch 5/100\n",
      "11/11 [==============================] - 0s 12ms/step - loss: 492.8267 - mae: 20.3216 - val_loss: 561.7648 - val_mae: 21.9064\n",
      "Epoch 6/100\n",
      "11/11 [==============================] - 0s 10ms/step - loss: 514.8959 - mae: 20.7075 - val_loss: 544.8542 - val_mae: 21.5324\n",
      "Epoch 7/100\n",
      "11/11 [==============================] - 0s 9ms/step - loss: 498.0854 - mae: 20.2565 - val_loss: 525.9720 - val_mae: 21.1140\n",
      "Epoch 8/100\n",
      "11/11 [==============================] - 0s 11ms/step - loss: 475.5845 - mae: 19.8821 - val_loss: 504.5470 - val_mae: 20.6408\n",
      "Epoch 9/100\n",
      "11/11 [==============================] - 0s 10ms/step - loss: 404.4621 - mae: 18.3198 - val_loss: 485.1620 - val_mae: 20.1851\n",
      "Epoch 10/100\n",
      "11/11 [==============================] - 0s 10ms/step - loss: 421.6740 - mae: 18.4182 - val_loss: 462.9831 - val_mae: 19.6567\n",
      "Epoch 11/100\n",
      "11/11 [==============================] - 0s 10ms/step - loss: 412.8855 - mae: 18.2117 - val_loss: 440.2472 - val_mae: 19.1022\n",
      "Epoch 12/100\n",
      "11/11 [==============================] - 0s 12ms/step - loss: 367.0768 - mae: 17.2898 - val_loss: 416.4208 - val_mae: 18.5031\n",
      "Epoch 13/100\n",
      "11/11 [==============================] - 0s 13ms/step - loss: 372.0371 - mae: 17.0999 - val_loss: 390.6198 - val_mae: 17.8390\n",
      "Epoch 14/100\n",
      "11/11 [==============================] - 0s 13ms/step - loss: 340.5204 - mae: 16.3642 - val_loss: 363.5266 - val_mae: 17.1239\n",
      "Epoch 15/100\n",
      "11/11 [==============================] - 0s 14ms/step - loss: 310.4871 - mae: 15.4004 - val_loss: 335.1612 - val_mae: 16.3490\n",
      "Epoch 16/100\n",
      "11/11 [==============================] - 0s 19ms/step - loss: 297.2389 - mae: 14.9008 - val_loss: 307.6121 - val_mae: 15.5464\n",
      "Epoch 17/100\n",
      "11/11 [==============================] - 0s 19ms/step - loss: 234.5390 - mae: 13.4506 - val_loss: 278.2538 - val_mae: 14.6364\n",
      "Epoch 18/100\n",
      "11/11 [==============================] - 0s 19ms/step - loss: 237.2480 - mae: 13.3017 - val_loss: 249.7571 - val_mae: 13.6957\n",
      "Epoch 19/100\n",
      "11/11 [==============================] - 0s 13ms/step - loss: 196.5428 - mae: 12.0360 - val_loss: 223.8499 - val_mae: 12.7600\n",
      "Epoch 20/100\n",
      "11/11 [==============================] - 0s 18ms/step - loss: 192.1384 - mae: 11.6792 - val_loss: 198.1696 - val_mae: 11.7522\n",
      "Epoch 21/100\n",
      "11/11 [==============================] - 0s 17ms/step - loss: 176.0566 - mae: 10.9348 - val_loss: 174.8323 - val_mae: 10.7392\n",
      "Epoch 22/100\n",
      "11/11 [==============================] - 0s 16ms/step - loss: 145.7045 - mae: 9.7853 - val_loss: 153.5266 - val_mae: 9.7734\n",
      "Epoch 23/100\n",
      "11/11 [==============================] - 0s 17ms/step - loss: 122.2607 - mae: 8.8213 - val_loss: 133.5668 - val_mae: 8.9092\n",
      "Epoch 24/100\n",
      "11/11 [==============================] - 0s 16ms/step - loss: 100.9184 - mae: 7.7357 - val_loss: 116.6979 - val_mae: 8.1777\n",
      "Epoch 25/100\n",
      "11/11 [==============================] - 0s 15ms/step - loss: 78.2861 - mae: 6.7661 - val_loss: 101.9915 - val_mae: 7.5612\n",
      "Epoch 26/100\n",
      "11/11 [==============================] - 0s 11ms/step - loss: 75.1401 - mae: 6.5982 - val_loss: 89.0976 - val_mae: 6.9978\n",
      "Epoch 27/100\n",
      "11/11 [==============================] - 0s 17ms/step - loss: 79.8583 - mae: 6.3671 - val_loss: 82.5421 - val_mae: 6.7233\n",
      "Epoch 28/100\n",
      "11/11 [==============================] - 0s 15ms/step - loss: 58.8707 - mae: 5.5622 - val_loss: 76.5643 - val_mae: 6.4678\n",
      "Epoch 29/100\n",
      "11/11 [==============================] - 0s 10ms/step - loss: 58.8473 - mae: 5.5882 - val_loss: 70.8838 - val_mae: 6.2123\n",
      "Epoch 30/100\n",
      "11/11 [==============================] - 0s 10ms/step - loss: 51.5993 - mae: 5.1871 - val_loss: 65.7061 - val_mae: 6.0083\n",
      "Epoch 31/100\n",
      "11/11 [==============================] - 0s 10ms/step - loss: 48.1550 - mae: 4.9230 - val_loss: 61.5009 - val_mae: 5.8443\n",
      "Epoch 32/100\n",
      "11/11 [==============================] - 0s 10ms/step - loss: 51.8817 - mae: 5.0999 - val_loss: 57.7368 - val_mae: 5.6673\n",
      "Epoch 33/100\n",
      "11/11 [==============================] - 0s 11ms/step - loss: 35.9339 - mae: 4.4403 - val_loss: 54.0500 - val_mae: 5.4674\n",
      "Epoch 34/100\n",
      "11/11 [==============================] - 0s 12ms/step - loss: 47.2937 - mae: 4.7619 - val_loss: 50.8689 - val_mae: 5.2790\n",
      "Epoch 35/100\n",
      "11/11 [==============================] - 0s 12ms/step - loss: 41.2782 - mae: 4.2394 - val_loss: 47.5499 - val_mae: 5.0918\n",
      "Epoch 36/100\n",
      "11/11 [==============================] - 0s 12ms/step - loss: 31.0914 - mae: 4.0145 - val_loss: 45.2292 - val_mae: 4.9464\n",
      "Epoch 37/100\n",
      "11/11 [==============================] - 0s 13ms/step - loss: 32.7020 - mae: 4.1339 - val_loss: 42.4688 - val_mae: 4.7550\n",
      "Epoch 38/100\n",
      "11/11 [==============================] - 0s 16ms/step - loss: 28.7182 - mae: 3.7748 - val_loss: 40.8143 - val_mae: 4.6685\n",
      "Epoch 39/100\n",
      "11/11 [==============================] - 0s 19ms/step - loss: 28.0043 - mae: 3.6363 - val_loss: 39.1998 - val_mae: 4.5713\n",
      "Epoch 40/100\n",
      "11/11 [==============================] - 0s 13ms/step - loss: 37.9509 - mae: 3.9245 - val_loss: 37.4850 - val_mae: 4.4401\n",
      "Epoch 41/100\n",
      "11/11 [==============================] - 0s 18ms/step - loss: 30.7344 - mae: 3.7825 - val_loss: 36.4265 - val_mae: 4.3997\n",
      "Epoch 42/100\n",
      "11/11 [==============================] - 0s 11ms/step - loss: 31.8281 - mae: 3.7515 - val_loss: 35.5936 - val_mae: 4.3657\n",
      "Epoch 43/100\n",
      "11/11 [==============================] - 0s 10ms/step - loss: 33.0970 - mae: 3.8200 - val_loss: 34.6688 - val_mae: 4.2914\n",
      "Epoch 44/100\n",
      "11/11 [==============================] - 0s 11ms/step - loss: 32.3325 - mae: 3.6904 - val_loss: 33.0741 - val_mae: 4.1476\n",
      "Epoch 45/100\n",
      "11/11 [==============================] - 0s 11ms/step - loss: 26.4411 - mae: 3.4947 - val_loss: 32.7698 - val_mae: 4.1407\n",
      "Epoch 46/100\n",
      "11/11 [==============================] - 0s 11ms/step - loss: 30.3299 - mae: 3.5580 - val_loss: 32.6062 - val_mae: 4.1447\n",
      "Epoch 47/100\n",
      "11/11 [==============================] - 0s 11ms/step - loss: 26.7344 - mae: 3.4342 - val_loss: 31.6439 - val_mae: 4.0729\n",
      "Epoch 48/100\n",
      "11/11 [==============================] - 0s 12ms/step - loss: 25.4131 - mae: 3.4331 - val_loss: 31.2098 - val_mae: 4.0542\n",
      "Epoch 49/100\n",
      "11/11 [==============================] - 0s 13ms/step - loss: 28.1414 - mae: 3.5341 - val_loss: 30.2019 - val_mae: 3.9872\n",
      "Epoch 50/100\n",
      "11/11 [==============================] - 0s 12ms/step - loss: 27.4469 - mae: 3.4558 - val_loss: 29.4470 - val_mae: 3.9036\n",
      "Epoch 51/100\n",
      "11/11 [==============================] - 0s 17ms/step - loss: 28.9314 - mae: 3.5218 - val_loss: 29.2553 - val_mae: 3.9068\n",
      "Epoch 52/100\n",
      "11/11 [==============================] - 0s 17ms/step - loss: 23.4141 - mae: 3.3897 - val_loss: 28.8086 - val_mae: 3.8771\n",
      "Epoch 53/100\n",
      "11/11 [==============================] - 0s 12ms/step - loss: 26.0757 - mae: 3.3603 - val_loss: 28.4560 - val_mae: 3.8476\n",
      "Epoch 54/100\n",
      "11/11 [==============================] - 0s 18ms/step - loss: 28.3048 - mae: 3.4403 - val_loss: 28.2162 - val_mae: 3.8340\n",
      "Epoch 55/100\n",
      "11/11 [==============================] - 0s 15ms/step - loss: 24.1336 - mae: 3.2101 - val_loss: 27.7008 - val_mae: 3.7937\n",
      "Epoch 56/100\n",
      "11/11 [==============================] - 0s 18ms/step - loss: 25.4804 - mae: 3.3078 - val_loss: 27.2807 - val_mae: 3.7791\n",
      "Epoch 57/100\n",
      "11/11 [==============================] - 0s 16ms/step - loss: 24.5728 - mae: 3.4271 - val_loss: 26.6323 - val_mae: 3.7483\n",
      "Epoch 58/100\n",
      "11/11 [==============================] - 0s 12ms/step - loss: 23.1356 - mae: 3.2022 - val_loss: 26.3817 - val_mae: 3.7441\n",
      "Epoch 59/100\n",
      "11/11 [==============================] - 0s 18ms/step - loss: 29.4937 - mae: 3.5818 - val_loss: 26.3924 - val_mae: 3.7642\n",
      "Epoch 60/100\n",
      "11/11 [==============================] - 0s 17ms/step - loss: 20.7743 - mae: 3.1915 - val_loss: 26.0057 - val_mae: 3.7403\n",
      "Epoch 61/100\n"
     ]
    },
    {
     "name": "stdout",
     "output_type": "stream",
     "text": [
      "11/11 [==============================] - 0s 17ms/step - loss: 26.8911 - mae: 3.2180 - val_loss: 25.6223 - val_mae: 3.7112\n",
      "Epoch 62/100\n",
      "11/11 [==============================] - 0s 18ms/step - loss: 21.6315 - mae: 3.1441 - val_loss: 25.1992 - val_mae: 3.6691\n",
      "Epoch 63/100\n",
      "11/11 [==============================] - 0s 19ms/step - loss: 21.7540 - mae: 3.1280 - val_loss: 25.0223 - val_mae: 3.6708\n",
      "Epoch 64/100\n",
      "11/11 [==============================] - 0s 18ms/step - loss: 23.4454 - mae: 3.1655 - val_loss: 24.8495 - val_mae: 3.6653\n",
      "Epoch 65/100\n",
      "11/11 [==============================] - 0s 18ms/step - loss: 19.5429 - mae: 2.9431 - val_loss: 24.6186 - val_mae: 3.6454\n",
      "Epoch 66/100\n",
      "11/11 [==============================] - 0s 21ms/step - loss: 21.5891 - mae: 3.2036 - val_loss: 24.1357 - val_mae: 3.6325\n",
      "Epoch 67/100\n",
      "11/11 [==============================] - 0s 18ms/step - loss: 23.0189 - mae: 3.1498 - val_loss: 23.7066 - val_mae: 3.5762\n",
      "Epoch 68/100\n",
      "11/11 [==============================] - 0s 12ms/step - loss: 19.1756 - mae: 2.9712 - val_loss: 24.5087 - val_mae: 3.6910\n",
      "Epoch 69/100\n",
      "11/11 [==============================] - 0s 13ms/step - loss: 25.5093 - mae: 3.2152 - val_loss: 23.3888 - val_mae: 3.5680\n",
      "Epoch 70/100\n",
      "11/11 [==============================] - 0s 16ms/step - loss: 26.3339 - mae: 3.1629 - val_loss: 22.9933 - val_mae: 3.5327\n",
      "Epoch 71/100\n",
      "11/11 [==============================] - 0s 15ms/step - loss: 24.2975 - mae: 3.0013 - val_loss: 22.8326 - val_mae: 3.5383\n",
      "Epoch 72/100\n",
      "11/11 [==============================] - 0s 16ms/step - loss: 22.0344 - mae: 3.1507 - val_loss: 23.0727 - val_mae: 3.5766\n",
      "Epoch 73/100\n",
      "11/11 [==============================] - 0s 16ms/step - loss: 18.4854 - mae: 3.0335 - val_loss: 22.5120 - val_mae: 3.5476\n",
      "Epoch 74/100\n",
      "11/11 [==============================] - 0s 16ms/step - loss: 21.6086 - mae: 3.0448 - val_loss: 22.0078 - val_mae: 3.5053\n",
      "Epoch 75/100\n",
      "11/11 [==============================] - 0s 16ms/step - loss: 19.9263 - mae: 2.9572 - val_loss: 21.6950 - val_mae: 3.4831\n",
      "Epoch 76/100\n",
      "11/11 [==============================] - 0s 17ms/step - loss: 17.8732 - mae: 3.0108 - val_loss: 21.7611 - val_mae: 3.5074\n",
      "Epoch 77/100\n",
      "11/11 [==============================] - 0s 17ms/step - loss: 17.1456 - mae: 2.9586 - val_loss: 21.3933 - val_mae: 3.4856\n",
      "Epoch 78/100\n",
      "11/11 [==============================] - 0s 17ms/step - loss: 17.0885 - mae: 2.8412 - val_loss: 21.0700 - val_mae: 3.4540\n",
      "Epoch 79/100\n",
      "11/11 [==============================] - 0s 18ms/step - loss: 23.3982 - mae: 3.1446 - val_loss: 21.3997 - val_mae: 3.5314\n",
      "Epoch 80/100\n",
      "11/11 [==============================] - 0s 19ms/step - loss: 21.5971 - mae: 2.9986 - val_loss: 20.5640 - val_mae: 3.4213\n",
      "Epoch 81/100\n",
      "11/11 [==============================] - 0s 14ms/step - loss: 23.9611 - mae: 3.1252 - val_loss: 20.4597 - val_mae: 3.4341\n",
      "Epoch 82/100\n",
      "11/11 [==============================] - 0s 11ms/step - loss: 25.7215 - mae: 3.0299 - val_loss: 20.3503 - val_mae: 3.4319\n",
      "Epoch 83/100\n",
      "11/11 [==============================] - 0s 11ms/step - loss: 17.4311 - mae: 2.9563 - val_loss: 20.2540 - val_mae: 3.4496\n",
      "Epoch 84/100\n",
      "11/11 [==============================] - 0s 9ms/step - loss: 23.0959 - mae: 3.0367 - val_loss: 20.2393 - val_mae: 3.4438\n",
      "Epoch 85/100\n",
      "11/11 [==============================] - 0s 11ms/step - loss: 18.8542 - mae: 2.8146 - val_loss: 19.9713 - val_mae: 3.4146\n",
      "Epoch 86/100\n",
      "11/11 [==============================] - 0s 9ms/step - loss: 20.2513 - mae: 2.9156 - val_loss: 19.4583 - val_mae: 3.3661\n",
      "Epoch 87/100\n",
      "11/11 [==============================] - 0s 9ms/step - loss: 20.9560 - mae: 3.0303 - val_loss: 19.2869 - val_mae: 3.3639\n",
      "Epoch 88/100\n",
      "11/11 [==============================] - 0s 10ms/step - loss: 16.8165 - mae: 2.7686 - val_loss: 19.5899 - val_mae: 3.4045\n",
      "Epoch 89/100\n",
      "11/11 [==============================] - 0s 11ms/step - loss: 18.9605 - mae: 2.8296 - val_loss: 18.8789 - val_mae: 3.3262\n",
      "Epoch 90/100\n",
      "11/11 [==============================] - 0s 8ms/step - loss: 17.0811 - mae: 2.7910 - val_loss: 18.9074 - val_mae: 3.3330\n",
      "Epoch 91/100\n",
      "11/11 [==============================] - 0s 9ms/step - loss: 16.2982 - mae: 2.6344 - val_loss: 19.0924 - val_mae: 3.3581\n",
      "Epoch 92/100\n",
      "11/11 [==============================] - 0s 11ms/step - loss: 14.5404 - mae: 2.5922 - val_loss: 19.1730 - val_mae: 3.3621\n",
      "Epoch 93/100\n",
      "11/11 [==============================] - 0s 11ms/step - loss: 13.5737 - mae: 2.5261 - val_loss: 18.6697 - val_mae: 3.3241\n",
      "Epoch 94/100\n",
      "11/11 [==============================] - 0s 11ms/step - loss: 20.2452 - mae: 2.9460 - val_loss: 18.5214 - val_mae: 3.3372\n",
      "Epoch 95/100\n",
      "11/11 [==============================] - 0s 12ms/step - loss: 17.1573 - mae: 2.7651 - val_loss: 18.5787 - val_mae: 3.3487\n",
      "Epoch 96/100\n",
      "11/11 [==============================] - 0s 12ms/step - loss: 14.2411 - mae: 2.6057 - val_loss: 18.1159 - val_mae: 3.2871\n",
      "Epoch 97/100\n",
      "11/11 [==============================] - 0s 11ms/step - loss: 18.0852 - mae: 2.8551 - val_loss: 18.1778 - val_mae: 3.3055\n",
      "Epoch 98/100\n",
      "11/11 [==============================] - 0s 11ms/step - loss: 18.9082 - mae: 2.7051 - val_loss: 18.3736 - val_mae: 3.3269\n",
      "Epoch 99/100\n",
      "11/11 [==============================] - 0s 10ms/step - loss: 20.2207 - mae: 2.9339 - val_loss: 18.4101 - val_mae: 3.3343\n",
      "Epoch 100/100\n",
      "11/11 [==============================] - 0s 10ms/step - loss: 16.6915 - mae: 2.6940 - val_loss: 18.1233 - val_mae: 3.2998\n"
     ]
    }
   ],
   "source": [
    "# Training model\n",
    "history = model.fit(X_train_scaled, y_train, validation_split=0.2, epochs=100)"
   ]
  },
  {
   "cell_type": "code",
   "execution_count": 12,
   "id": "88a1a8b7",
   "metadata": {},
   "outputs": [
    {
     "data": {
      "text/plain": [
       "dict_keys(['loss', 'mae', 'val_loss', 'val_mae'])"
      ]
     },
     "execution_count": 12,
     "metadata": {},
     "output_type": "execute_result"
    }
   ],
   "source": [
    "history_dict = history.history\n",
    "history_dict.keys()"
   ]
  },
  {
   "cell_type": "code",
   "execution_count": 14,
   "id": "8acb995a",
   "metadata": {},
   "outputs": [
    {
     "data": {
      "image/png": "[encoded data removed]",
      "text/plain": [
       "<Figure size 432x288 with 1 Axes>"
      ]
     },
     "metadata": {
      "needs_background": "light"
     },
     "output_type": "display_data"
    }
   ],
   "source": [
    "# Plotting losses\n",
    "mae = history_dict['mae']\n",
    "val_mae = history_dict['val_mae']\n",
    "\n",
    "epochs = range(1, len(mae)+1)\n",
    "\n",
    "plt.plot(epochs, mae, 'ro', label='Training Err')\n",
    "plt.plot(epochs, val_mae, 'b-', label='Validation Err')\n",
    "\n",
    "plt.title('Validation and training Err')\n",
    "plt.xlabel('Epochs')\n",
    "plt.ylabel('Err value')\n",
    "plt.legend()\n",
    "plt.show()"
   ]
  },
  {
   "cell_type": "code",
   "execution_count": 15,
   "id": "e0ab4c9c",
   "metadata": {},
   "outputs": [
    {
     "name": "stdout",
     "output_type": "stream",
     "text": [
      "4/4 [==============================] - 0s 3ms/step - loss: 25.2854 - mae: 3.6760\n"
     ]
    },
    {
     "data": {
      "text/plain": [
       "[25.28544044494629, 3.6759588718414307]"
      ]
     },
     "execution_count": 15,
     "metadata": {},
     "output_type": "execute_result"
    }
   ],
   "source": [
    "# Evaluation on test data\n",
    "model.evaluate(X_test_scaled, y_test) # output = [mean squared error, mean absolute error]"
   ]
  },
  {
   "cell_type": "markdown",
   "id": "925d6d5f",
   "metadata": {},
   "source": [
    "K fold validation method gives us 2.5 mean absolute error, better than this one (3.67), but in a housing problem statement, such a 3.67 is also not a bad error. "
   ]
  },
  {
   "cell_type": "code",
   "execution_count": 16,
   "id": "0b9b7620",
   "metadata": {},
   "outputs": [
    {
     "name": "stdout",
     "output_type": "stream",
     "text": [
      "[[16.3893 ]\n",
      " [41.03262]]\n",
      "[15.2 42.3]\n"
     ]
    }
   ],
   "source": [
    "# Model prediction\n",
    "# Predicted data\n",
    "to_predict = X_train_scaled[:2]\n",
    "predictions = model.predict(to_predict)\n",
    "print(predictions)\n",
    "\n",
    "# Real values\n",
    "print(y_train[:2])"
   ]
  }
 ],
 "metadata": {
  "kernelspec": {
   "display_name": "Python [ibmdl2.0]",
   "language": "python",
   "name": "ibmdl2.0"
  },
  "language_info": {
   "codemirror_mode": {
    "name": "ipython",
    "version": 3
   },
   "file_extension": ".py",
   "mimetype": "text/x-python",
   "name": "python",
   "nbconvert_exporter": "python",
   "pygments_lexer": "ipython3",
   "version": "3.7.9"
  }
 },
 "nbformat": 4,
 "nbformat_minor": 5
}
