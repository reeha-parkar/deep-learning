{
 "cells": [
  {
   "cell_type": "markdown",
   "metadata": {},
   "source": [
    "## Practical 2\n",
    "\n",
    "## Exploring MNIST dataset, training it, and calculating accuracy values"
   ]
  },
  {
   "cell_type": "code",
   "execution_count": 1,
   "metadata": {},
   "outputs": [],
   "source": [
    "import numpy as np\n",
    "import keras\n",
    "import cv2"
   ]
  },
  {
   "cell_type": "code",
   "execution_count": 2,
   "metadata": {},
   "outputs": [
    {
     "name": "stdout",
     "output_type": "stream",
     "text": [
      "<class 'numpy.ndarray'>\n",
      "(242, 208, 3)\n"
     ]
    }
   ],
   "source": [
    "img = cv2.imread(\"blox.jpg\")\n",
    "print(type(img))\n",
    "print(img.shape)"
   ]
  },
  {
   "cell_type": "code",
   "execution_count": 3,
   "metadata": {},
   "outputs": [
    {
     "data": {
      "text/plain": [
       "True"
      ]
     },
     "execution_count": 3,
     "metadata": {},
     "output_type": "execute_result"
    }
   ],
   "source": [
    "cv2.imwrite('new_img.jpg', img)"
   ]
  },
  {
   "cell_type": "code",
   "execution_count": 7,
   "metadata": {},
   "outputs": [
    {
     "name": "stdout",
     "output_type": "stream",
     "text": [
      "(60000, 28, 28)\n",
      "60000\n",
      "(10000, 28, 28)\n",
      "10000\n"
     ]
    }
   ],
   "source": [
    "# MNIST digit recognition public dataset\n",
    "from keras.datasets import mnist\n",
    "(itrain,ltrain), (itest,ltest) = mnist.load_data() # itrain = train images; ltrain = train labels\n",
    "# print dimensions\n",
    "print(itrain.shape)\n",
    "print(len(ltrain))\n",
    "print(itest.shape)\n",
    "print(len(ltest))"
   ]
  },
  {
   "cell_type": "code",
   "execution_count": 8,
   "metadata": {},
   "outputs": [],
   "source": [
    "from keras import models\n",
    "from keras import layers\n",
    "from keras.utils import to_categorical as cat\n",
    "ntwk = models.Sequential()\n",
    "ntwk.add(layers.Dense(256, activation=\"relu\", input_shape=(28*28, ))) \n",
    "ntwk.add(layers.Dense(10, activation=\"softmax\")) # softmax is used at the output layer of multiclass classification model"
   ]
  },
  {
   "cell_type": "code",
   "execution_count": 9,
   "metadata": {},
   "outputs": [],
   "source": [
    "# compile the model\n",
    "ntwk.compile(optimizer=\"rmsprop\", loss=\"categorical_crossentropy\", metrics=['accuracy']) # categorical since multiclass"
   ]
  },
  {
   "cell_type": "code",
   "execution_count": 10,
   "metadata": {},
   "outputs": [],
   "source": [
    "imgs_train = itrain.reshape((60000, 28*28))\n",
    "imgs_train = imgs_train.astype('float32') / 255\n",
    "\n",
    "imgs_test = itest.reshape((10000,28*28))\n",
    "imgs_test = imgs_test.astype('float32') / 255\n",
    "\n",
    "ltrain = cat(ltrain) # cat = to_categorical, we convert into 0 and 1\n",
    "ltest = cat(ltest)"
   ]
  },
  {
   "cell_type": "code",
   "execution_count": 11,
   "metadata": {},
   "outputs": [
    {
     "name": "stdout",
     "output_type": "stream",
     "text": [
      "Epoch 1/5\n",
      "235/235 [==============================] - 7s 8ms/step - loss: 0.5929 - accuracy: 0.8359\n",
      "Epoch 2/5\n",
      "235/235 [==============================] - 2s 6ms/step - loss: 0.1743 - accuracy: 0.9500\n",
      "Epoch 3/5\n",
      "235/235 [==============================] - 1s 6ms/step - loss: 0.1155 - accuracy: 0.9663\n",
      "Epoch 4/5\n",
      "235/235 [==============================] - 1s 6ms/step - loss: 0.0876 - accuracy: 0.9753\n",
      "Epoch 5/5\n",
      "235/235 [==============================] - 1s 6ms/step - loss: 0.0653 - accuracy: 0.9814\n"
     ]
    },
    {
     "data": {
      "text/plain": [
       "<tensorflow.python.keras.callbacks.History at 0x19bf4e3fa88>"
      ]
     },
     "execution_count": 11,
     "metadata": {},
     "output_type": "execute_result"
    }
   ],
   "source": [
    "ntwk.fit(imgs_train, ltrain,epochs=5, batch_size=256)"
   ]
  },
  {
   "cell_type": "code",
   "execution_count": 12,
   "metadata": {},
   "outputs": [
    {
     "name": "stdout",
     "output_type": "stream",
     "text": [
      "313/313 [==============================] - 1s 1ms/step - loss: 0.0804 - accuracy: 0.9748\n"
     ]
    }
   ],
   "source": [
    "test_loss, test_acc=ntwk.evaluate(imgs_test, ltest)"
   ]
  },
  {
   "cell_type": "code",
   "execution_count": 13,
   "metadata": {},
   "outputs": [
    {
     "name": "stdout",
     "output_type": "stream",
     "text": [
      "0.9747999906539917\n"
     ]
    }
   ],
   "source": [
    "print(test_acc)"
   ]
  },
  {
   "cell_type": "markdown",
   "metadata": {},
   "source": [
    "### Effect of change in epoch and batchsize in accuracy\n",
    "\n",
    "##### Batch size=128 epoch = 5 Accuracy =97.47%\n",
    "##### Batch size=256 epoch = 5 Accuracy =97.38%\n",
    "##### Batch size=128 epoch = 10 Accuracy =98.18%\n",
    "##### Batch size=256 epoch = 10 Accuracy =97.88%\n",
    "\n",
    "Increasing Batch size decreases the accuracy slightly while increasing the epochs , keeping batch size constant significantly increases accuracy. Increasing epochs further may lead to overfitting."
   ]
  }
 ],
 "metadata": {
  "kernelspec": {
   "display_name": "Python [ibmdl2.0]",
   "language": "python",
   "name": "ibmdl2.0"
  },
  "language_info": {
   "codemirror_mode": {
    "name": "ipython",
    "version": 3
   },
   "file_extension": ".py",
   "mimetype": "text/x-python",
   "name": "python",
   "nbconvert_exporter": "python",
   "pygments_lexer": "ipython3",
   "version": "3.7.9"
  }
 },
 "nbformat": 4,
 "nbformat_minor": 4
}
