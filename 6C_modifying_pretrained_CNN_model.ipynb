{
 "cells": [
  {
   "cell_type": "markdown",
   "id": "20866600",
   "metadata": {},
   "source": [
    "## Practical 6C\n",
    "\n",
    "## Modifying the trained CNN model of MNIST dataset"
   ]
  },
  {
   "cell_type": "code",
   "execution_count": 1,
   "id": "4b545432",
   "metadata": {},
   "outputs": [],
   "source": [
    "import numpy as np\n",
    "import cv2\n",
    "from keras import models\n",
    "from keras import layers \n",
    "from keras import optimizers\n",
    "from keras import losses\n",
    "from keras import metrics\n",
    "from keras.datasets import mnist\n",
    "from keras.utils.np_utils import to_categorical"
   ]
  },
  {
   "cell_type": "code",
   "execution_count": 2,
   "id": "c4e10ae5",
   "metadata": {},
   "outputs": [
    {
     "name": "stdout",
     "output_type": "stream",
     "text": [
      "Model: \"sequential\"\n",
      "_________________________________________________________________\n",
      "Layer (type)                 Output Shape              Param #   \n",
      "=================================================================\n",
      "conv2d (Conv2D)              (None, 26, 26, 32)        320       \n",
      "_________________________________________________________________\n",
      "max_pooling2d (MaxPooling2D) (None, 13, 13, 32)        0         \n",
      "_________________________________________________________________\n",
      "conv2d_1 (Conv2D)            (None, 11, 11, 64)        18496     \n",
      "_________________________________________________________________\n",
      "max_pooling2d_1 (MaxPooling2 (None, 5, 5, 64)          0         \n",
      "_________________________________________________________________\n",
      "conv2d_2 (Conv2D)            (None, 3, 3, 64)          36928     \n",
      "_________________________________________________________________\n",
      "flatten (Flatten)            (None, 576)               0         \n",
      "_________________________________________________________________\n",
      "dense (Dense)                (None, 64)                36928     \n",
      "_________________________________________________________________\n",
      "dense_1 (Dense)              (None, 10)                650       \n",
      "=================================================================\n",
      "Total params: 93,322\n",
      "Trainable params: 93,322\n",
      "Non-trainable params: 0\n",
      "_________________________________________________________________\n",
      "None\n"
     ]
    }
   ],
   "source": [
    "# Load the data\n",
    "(images_train, labels_train), (images_test, labels_test) = mnist.load_data()\n",
    "\n",
    "# Load the pretrained model\n",
    "model = models.load_model('mnist_cnn_model.h5')\n",
    "print(model.summary())"
   ]
  },
  {
   "cell_type": "code",
   "execution_count": 3,
   "id": "d340a829",
   "metadata": {},
   "outputs": [],
   "source": [
    "# Let us retrain only the last layer of the CNN\n",
    "# Selcting tha last layer\n",
    "set_trainable = False\n",
    "for layer in model.layers:\n",
    "    if layer.name == 'conv2d_3':\n",
    "        set_trainable = True\n",
    "    if set_trainable:\n",
    "        layer.trainable = True\n",
    "    else:\n",
    "        layer.trainable = False"
   ]
  },
  {
   "cell_type": "code",
   "execution_count": 4,
   "id": "63b87081",
   "metadata": {},
   "outputs": [],
   "source": [
    "# Any changes to the network mandates compiling again\n",
    "model.compile(optimizer='rmsprop', loss='categorical_crossentropy', metrics=['accuracy'])"
   ]
  },
  {
   "cell_type": "code",
   "execution_count": 5,
   "id": "70fec757",
   "metadata": {},
   "outputs": [],
   "source": [
    "# Train newly cofigured network\n",
    "images_train = images_train.reshape((60000, 28, 28, 1))\n",
    "images_train = images_train.astype('float32')/255\n",
    "labels_train = to_categorical(labels_train)"
   ]
  },
  {
   "cell_type": "code",
   "execution_count": 6,
   "id": "a3183de8",
   "metadata": {},
   "outputs": [
    {
     "name": "stdout",
     "output_type": "stream",
     "text": [
      "Epoch 1/5\n",
      "938/938 [==============================] - 18s 17ms/step - loss: 0.0150 - accuracy: 0.9950\n",
      "Epoch 2/5\n",
      "938/938 [==============================] - 17s 18ms/step - loss: 0.0149 - accuracy: 0.9949\n",
      "Epoch 3/5\n",
      "938/938 [==============================] - 17s 19ms/step - loss: 0.0167 - accuracy: 0.9950\n",
      "Epoch 4/5\n",
      "938/938 [==============================] - 17s 18ms/step - loss: 0.0141 - accuracy: 0.9960\n",
      "Epoch 5/5\n",
      "938/938 [==============================] - 17s 18ms/step - loss: 0.0141 - accuracy: 0.9954\n"
     ]
    },
    {
     "data": {
      "text/plain": [
       "<tensorflow.python.keras.callbacks.History at 0x1a5cebfe688>"
      ]
     },
     "execution_count": 6,
     "metadata": {},
     "output_type": "execute_result"
    }
   ],
   "source": [
    "model.fit(images_train, labels_train, epochs=5, batch_size=64)"
   ]
  },
  {
   "cell_type": "code",
   "execution_count": 7,
   "id": "e5460317",
   "metadata": {},
   "outputs": [
    {
     "name": "stdout",
     "output_type": "stream",
     "text": [
      "313/313 [==============================] - 4s 11ms/step - loss: 0.0324 - accuracy: 0.9911\n",
      "Test loss = 0.03237982839345932 and accuracy = 0.991100013256073\n"
     ]
    }
   ],
   "source": [
    "images_test = images_test.reshape((10000, 28, 28, 1))\n",
    "images_test = images_test.astype('float32')/255\n",
    "\n",
    "labels_test = to_categorical(labels_test)\n",
    "\n",
    "test_loss, test_accuracy = model.evaluate(images_test, labels_test)\n",
    "print('Test loss = {} and accuracy = {}'.format(test_loss, test_accuracy))"
   ]
  }
 ],
 "metadata": {
  "kernelspec": {
   "display_name": "Python [ibmdl2.0]",
   "language": "python",
   "name": "ibmdl2.0"
  },
  "language_info": {
   "codemirror_mode": {
    "name": "ipython",
    "version": 3
   },
   "file_extension": ".py",
   "mimetype": "text/x-python",
   "name": "python",
   "nbconvert_exporter": "python",
   "pygments_lexer": "ipython3",
   "version": "3.7.9"
  }
 },
 "nbformat": 4,
 "nbformat_minor": 5
}
