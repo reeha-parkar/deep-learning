{
 "cells": [
  {
   "cell_type": "markdown",
   "metadata": {},
   "source": [
    "## Practical 1\n",
    "\n",
    "## Vectors, matrices, tensors, their manipulation, and basics of OpenCV"
   ]
  },
  {
   "cell_type": "code",
   "execution_count": 1,
   "metadata": {},
   "outputs": [],
   "source": [
    "# Compose matrix shape and tensor shape\n",
    "import numpy as np\n",
    "import keras"
   ]
  },
  {
   "cell_type": "code",
   "execution_count": 2,
   "metadata": {},
   "outputs": [
    {
     "name": "stdout",
     "output_type": "stream",
     "text": [
      "scalar dimension 0\n",
      "scalar shape ()\n"
     ]
    }
   ],
   "source": [
    "# Scalars are 0 dimensional tensors\n",
    "y = np.array(19)\n",
    "print(\"scalar dimension\", y.ndim)\n",
    "print(\"scalar shape\", y.shape)"
   ]
  },
  {
   "cell_type": "code",
   "execution_count": 3,
   "metadata": {},
   "outputs": [
    {
     "name": "stdout",
     "output_type": "stream",
     "text": [
      "scalar dimension 1\n",
      "scalar shape (4,)\n"
     ]
    }
   ],
   "source": [
    "# Vectors are 1 dimensional tensors\n",
    "y = np.array([19,18,17,16])\n",
    "print(\"scalar dimension\", y.ndim)\n",
    "print(\"scalar shape\", y.shape)"
   ]
  },
  {
   "cell_type": "code",
   "execution_count": 4,
   "metadata": {},
   "outputs": [
    {
     "name": "stdout",
     "output_type": "stream",
     "text": [
      "scalar dimension 2\n",
      "scalar shape (3, 4)\n",
      "[[19 18 17 16]\n",
      " [ 1  2  3 45]\n",
      " [ 2  4  5  6]]\n"
     ]
    }
   ],
   "source": [
    "# Matrices are 2 dimensional tensors\n",
    "y = np.array([[19,18,17,16], [1,2,3,45], [2,4,5,6]])\n",
    "print(\"scalar dimension\", y.ndim)\n",
    "print(\"scalar shape\", y.shape)\n",
    "print(y)"
   ]
  },
  {
   "cell_type": "code",
   "execution_count": 5,
   "metadata": {},
   "outputs": [
    {
     "name": "stdout",
     "output_type": "stream",
     "text": [
      "scalar dimension 3\n",
      "scalar shape (2, 3, 4)\n",
      "[[[19 18 17 16]\n",
      "  [ 1  2  3 45]\n",
      "  [ 2  4  5  6]]\n",
      "\n",
      " [[19 28 17 16]\n",
      "  [ 1 23  3 45]\n",
      "  [24 45 65  6]]]\n"
     ]
    }
   ],
   "source": [
    "# 3 dimensional tensors = tensors\n",
    "y = np.array([[[19, 18, 17, 16], [1, 2, 3, 45], [2, 4, 5, 6]], [[19, 28, 17, 16], [1, 23, 3, 45], [24, 45, 65, 6]]])\n",
    "print(\"scalar dimension\", y.ndim)\n",
    "print(\"scalar shape\", y.shape)\n",
    "print(y)"
   ]
  },
  {
   "cell_type": "code",
   "execution_count": 6,
   "metadata": {},
   "outputs": [
    {
     "name": "stdout",
     "output_type": "stream",
     "text": [
      "[[1 2]\n",
      " [2 3]]\n",
      "Inverse of y is [[-3.  2.]\n",
      " [ 2. -1.]]\n"
     ]
    }
   ],
   "source": [
    "# Square matrix and inverse:\n",
    "y = np.array([[1,2], [2,3]])\n",
    "x = np.linalg.inv(y)\n",
    "print(y)\n",
    "print(\"Inverse of y is\", x)"
   ]
  },
  {
   "cell_type": "code",
   "execution_count": 7,
   "metadata": {},
   "outputs": [
    {
     "name": "stdout",
     "output_type": "stream",
     "text": [
      "[[-3.  4.]\n",
      " [ 4. -3.]]\n"
     ]
    }
   ],
   "source": [
    "z = y*x\n",
    "print(z)"
   ]
  },
  {
   "cell_type": "code",
   "execution_count": 8,
   "metadata": {},
   "outputs": [],
   "source": [
    "import cv2\n",
    "from keras.datasets import mnist"
   ]
  },
  {
   "cell_type": "code",
   "execution_count": 9,
   "metadata": {},
   "outputs": [
    {
     "name": "stdout",
     "output_type": "stream",
     "text": [
      "Downloading data from https://storage.googleapis.com/tensorflow/tf-keras-datasets/mnist.npz\n",
      "11493376/11490434 [==============================] - 1s 0us/step\n"
     ]
    }
   ],
   "source": [
    "(imgs_train, lbls_train), (imgs_test, lbls_test) = mnist.load_data()"
   ]
  },
  {
   "cell_type": "code",
   "execution_count": 10,
   "metadata": {},
   "outputs": [
    {
     "name": "stdout",
     "output_type": "stream",
     "text": [
      "3\n",
      "(60000, 28, 28)\n",
      "uint8\n"
     ]
    }
   ],
   "source": [
    "print(imgs_train.ndim) # images stored as tensors\n",
    "print(imgs_train.shape) # 60,000 images of 28*28 pixels\n",
    "print(imgs_train.dtype) # data type for images, can also be double"
   ]
  },
  {
   "cell_type": "code",
   "execution_count": 11,
   "metadata": {},
   "outputs": [
    {
     "data": {
      "text/plain": [
       "True"
      ]
     },
     "execution_count": 11,
     "metadata": {},
     "output_type": "execute_result"
    }
   ],
   "source": [
    "# Get certain part of the dataset i.e., one image\n",
    "digit = imgs_train[5]\n",
    "cv2.imwrite(\"sixth.jpg\", digit)"
   ]
  },
  {
   "cell_type": "code",
   "execution_count": 12,
   "metadata": {},
   "outputs": [],
   "source": [
    "# Display that image in another window\n",
    "cv2.imshow(\"sixth image\", digit)  \n",
    "cv2.waitKey(0)  \n",
    "cv2.destroyAllWindows() "
   ]
  },
  {
   "cell_type": "code",
   "execution_count": 13,
   "metadata": {},
   "outputs": [
    {
     "name": "stdout",
     "output_type": "stream",
     "text": [
      "(90, 28, 28)\n"
     ]
    }
   ],
   "source": [
    "# Deal with only small set of images (slicing the dataset)\n",
    "new = imgs_train[10:100]\n",
    "print(new.shape)"
   ]
  },
  {
   "cell_type": "code",
   "execution_count": 14,
   "metadata": {},
   "outputs": [
    {
     "name": "stdout",
     "output_type": "stream",
     "text": [
      "(60000, 14, 14)\n"
     ]
    }
   ],
   "source": [
    "# Modifying (slicing) the pixels of all the images of the dataset \n",
    "new = imgs_train[:, 14:, 14:]\n",
    "print(new.shape)"
   ]
  },
  {
   "cell_type": "code",
   "execution_count": 15,
   "metadata": {},
   "outputs": [
    {
     "data": {
      "text/plain": [
       "True"
      ]
     },
     "execution_count": 15,
     "metadata": {},
     "output_type": "execute_result"
    }
   ],
   "source": [
    "# can also modify the pixels of the image\n",
    "cv2.imwrite(\"half_sixth.jpg\", imgs_train[5, :, :])"
   ]
  },
  {
   "cell_type": "code",
   "execution_count": 16,
   "metadata": {},
   "outputs": [
    {
     "name": "stdout",
     "output_type": "stream",
     "text": [
      "(3, 2)\n",
      "[[0 1]\n",
      " [1 2]\n",
      " [2 3]]\n"
     ]
    }
   ],
   "source": [
    "# reshape and transpose functions\n",
    "y = np.array([[0, 1], [1, 2], [2, 3]])\n",
    "print(y.shape)\n",
    "print(y)"
   ]
  },
  {
   "cell_type": "code",
   "execution_count": 17,
   "metadata": {},
   "outputs": [
    {
     "name": "stdout",
     "output_type": "stream",
     "text": [
      "(6, 1)\n",
      "[[0]\n",
      " [1]\n",
      " [1]\n",
      " [2]\n",
      " [2]\n",
      " [3]]\n"
     ]
    }
   ],
   "source": [
    "y = y.reshape((6,1))\n",
    "print(y.shape)\n",
    "print(y)"
   ]
  },
  {
   "cell_type": "code",
   "execution_count": 18,
   "metadata": {},
   "outputs": [
    {
     "name": "stdout",
     "output_type": "stream",
     "text": [
      "(1, 6)\n",
      "[[0 1 1 2 2 3]]\n"
     ]
    }
   ],
   "source": [
    "y = np.transpose(y)\n",
    "print(y.shape)\n",
    "print(y)"
   ]
  }
 ],
 "metadata": {
  "kernelspec": {
   "display_name": "Python [ibmdl2.0]",
   "language": "python",
   "name": "ibmdl2.0"
  },
  "language_info": {
   "codemirror_mode": {
    "name": "ipython",
    "version": 3
   },
   "file_extension": ".py",
   "mimetype": "text/x-python",
   "name": "python",
   "nbconvert_exporter": "python",
   "pygments_lexer": "ipython3",
   "version": "3.7.9"
  }
 },
 "nbformat": 4,
 "nbformat_minor": 4
}
